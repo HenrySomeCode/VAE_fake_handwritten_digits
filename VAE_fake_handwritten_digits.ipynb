{
  "nbformat": 4,
  "nbformat_minor": 0,
  "metadata": {
    "colab": {
      "provenance": [],
      "gpuType": "T4",
      "authorship_tag": "ABX9TyN9FDl9XQdc82XCc80jgWxz",
      "include_colab_link": true
    },
    "kernelspec": {
      "name": "python3",
      "display_name": "Python 3"
    },
    "language_info": {
      "name": "python"
    },
    "accelerator": "GPU"
  },
  "cells": [
    {
      "cell_type": "markdown",
      "metadata": {
        "id": "view-in-github",
        "colab_type": "text"
      },
      "source": [
        "<a href=\"https://colab.research.google.com/github/HenrySomeCode/VAE_fake_handwritten_digits/blob/main/VAE_fake_handwritten_digits.ipynb\" target=\"_parent\"><img src=\"https://colab.research.google.com/assets/colab-badge.svg\" alt=\"Open In Colab\"/></a>"
      ]
    },
    {
      "cell_type": "code",
      "execution_count": 1,
      "metadata": {
        "colab": {
          "base_uri": "https://localhost:8080/"
        },
        "id": "6FpvYEXTQOJZ",
        "outputId": "21c8953b-0469-4ba2-a179-db6a479ccf6b"
      },
      "outputs": [
        {
          "output_type": "stream",
          "name": "stdout",
          "text": [
            "Looking in indexes: https://pypi.org/simple, https://us-python.pkg.dev/colab-wheels/public/simple/\n",
            "Requirement already satisfied: tensorflow-probability in /usr/local/lib/python3.10/dist-packages (0.20.1)\n",
            "Requirement already satisfied: absl-py in /usr/local/lib/python3.10/dist-packages (from tensorflow-probability) (1.4.0)\n",
            "Requirement already satisfied: six>=1.10.0 in /usr/local/lib/python3.10/dist-packages (from tensorflow-probability) (1.16.0)\n",
            "Requirement already satisfied: numpy>=1.13.3 in /usr/local/lib/python3.10/dist-packages (from tensorflow-probability) (1.22.4)\n",
            "Requirement already satisfied: decorator in /usr/local/lib/python3.10/dist-packages (from tensorflow-probability) (4.4.2)\n",
            "Requirement already satisfied: cloudpickle>=1.3 in /usr/local/lib/python3.10/dist-packages (from tensorflow-probability) (2.2.1)\n",
            "Requirement already satisfied: gast>=0.3.2 in /usr/local/lib/python3.10/dist-packages (from tensorflow-probability) (0.4.0)\n",
            "Requirement already satisfied: dm-tree in /usr/local/lib/python3.10/dist-packages (from tensorflow-probability) (0.1.8)\n"
          ]
        }
      ],
      "source": [
        "pip install tensorflow-probability"
      ]
    },
    {
      "cell_type": "code",
      "source": [
        "!pip install imageio\n",
        "!pip install git+https://github.com/tensorflow/docs"
      ],
      "metadata": {
        "id": "YbV9qBKzQ9Ul",
        "colab": {
          "base_uri": "https://localhost:8080/"
        },
        "outputId": "6afa2266-3742-44e1-8b87-87f06db91dbc"
      },
      "execution_count": 2,
      "outputs": [
        {
          "output_type": "stream",
          "name": "stdout",
          "text": [
            "Looking in indexes: https://pypi.org/simple, https://us-python.pkg.dev/colab-wheels/public/simple/\n",
            "Requirement already satisfied: imageio in /usr/local/lib/python3.10/dist-packages (2.25.1)\n",
            "Requirement already satisfied: numpy in /usr/local/lib/python3.10/dist-packages (from imageio) (1.22.4)\n",
            "Requirement already satisfied: pillow>=8.3.2 in /usr/local/lib/python3.10/dist-packages (from imageio) (8.4.0)\n",
            "Looking in indexes: https://pypi.org/simple, https://us-python.pkg.dev/colab-wheels/public/simple/\n",
            "Collecting git+https://github.com/tensorflow/docs\n",
            "  Cloning https://github.com/tensorflow/docs to /tmp/pip-req-build-z14l3rfd\n",
            "  Running command git clone --filter=blob:none --quiet https://github.com/tensorflow/docs /tmp/pip-req-build-z14l3rfd\n",
            "  Resolved https://github.com/tensorflow/docs to commit 4db8e809b43108f61f295d963fd81139736d8376\n",
            "  Preparing metadata (setup.py) ... \u001b[?25l\u001b[?25hdone\n",
            "Collecting astor (from tensorflow-docs==2023.5.26.9808)\n",
            "  Downloading astor-0.8.1-py2.py3-none-any.whl (27 kB)\n",
            "Requirement already satisfied: absl-py in /usr/local/lib/python3.10/dist-packages (from tensorflow-docs==2023.5.26.9808) (1.4.0)\n",
            "Requirement already satisfied: jinja2 in /usr/local/lib/python3.10/dist-packages (from tensorflow-docs==2023.5.26.9808) (3.1.2)\n",
            "Requirement already satisfied: nbformat in /usr/local/lib/python3.10/dist-packages (from tensorflow-docs==2023.5.26.9808) (5.8.0)\n",
            "Requirement already satisfied: protobuf>=3.12 in /usr/local/lib/python3.10/dist-packages (from tensorflow-docs==2023.5.26.9808) (3.20.3)\n",
            "Requirement already satisfied: pyyaml in /usr/local/lib/python3.10/dist-packages (from tensorflow-docs==2023.5.26.9808) (6.0)\n",
            "Requirement already satisfied: MarkupSafe>=2.0 in /usr/local/lib/python3.10/dist-packages (from jinja2->tensorflow-docs==2023.5.26.9808) (2.1.2)\n",
            "Requirement already satisfied: fastjsonschema in /usr/local/lib/python3.10/dist-packages (from nbformat->tensorflow-docs==2023.5.26.9808) (2.16.3)\n",
            "Requirement already satisfied: jsonschema>=2.6 in /usr/local/lib/python3.10/dist-packages (from nbformat->tensorflow-docs==2023.5.26.9808) (4.3.3)\n",
            "Requirement already satisfied: jupyter-core in /usr/local/lib/python3.10/dist-packages (from nbformat->tensorflow-docs==2023.5.26.9808) (5.3.0)\n",
            "Requirement already satisfied: traitlets>=5.1 in /usr/local/lib/python3.10/dist-packages (from nbformat->tensorflow-docs==2023.5.26.9808) (5.7.1)\n",
            "Requirement already satisfied: attrs>=17.4.0 in /usr/local/lib/python3.10/dist-packages (from jsonschema>=2.6->nbformat->tensorflow-docs==2023.5.26.9808) (23.1.0)\n",
            "Requirement already satisfied: pyrsistent!=0.17.0,!=0.17.1,!=0.17.2,>=0.14.0 in /usr/local/lib/python3.10/dist-packages (from jsonschema>=2.6->nbformat->tensorflow-docs==2023.5.26.9808) (0.19.3)\n",
            "Requirement already satisfied: platformdirs>=2.5 in /usr/local/lib/python3.10/dist-packages (from jupyter-core->nbformat->tensorflow-docs==2023.5.26.9808) (3.3.0)\n",
            "Building wheels for collected packages: tensorflow-docs\n",
            "  Building wheel for tensorflow-docs (setup.py) ... \u001b[?25l\u001b[?25hdone\n",
            "  Created wheel for tensorflow-docs: filename=tensorflow_docs-2023.5.26.9808-py3-none-any.whl size=183623 sha256=aaa1ee8579151338b263e30dc56b2801027e58c8ca92eee9e6a0fcdc0682bc95\n",
            "  Stored in directory: /tmp/pip-ephem-wheel-cache-080zempr/wheels/86/0f/1e/3b62293c8ffd0fd5a49508e6871cdb7554abe9c62afd35ec53\n",
            "Successfully built tensorflow-docs\n",
            "Installing collected packages: astor, tensorflow-docs\n",
            "Successfully installed astor-0.8.1 tensorflow-docs-2023.5.26.9808\n"
          ]
        }
      ]
    },
    {
      "cell_type": "code",
      "source": [
        "from IPython import display \n",
        "import glob\n",
        "import imageio\n",
        "import matplotlib.pyplot as plt\n",
        "import numpy as np\n",
        "import PIL\n",
        "import tensorflow as tf\n",
        "import tensorflow_probability as tfp\n",
        "import time"
      ],
      "metadata": {
        "id": "qvWoLzrtRyBM"
      },
      "execution_count": 3,
      "outputs": []
    },
    {
      "cell_type": "code",
      "source": [
        "(train_images, _), (test_images, _) = tf.keras.datasets.mnist.load_data()"
      ],
      "metadata": {
        "colab": {
          "base_uri": "https://localhost:8080/"
        },
        "id": "OqajIFHYmGLd",
        "outputId": "9267f265-1b6b-4b01-9d1b-d6c1d4120479"
      },
      "execution_count": 4,
      "outputs": [
        {
          "output_type": "stream",
          "name": "stdout",
          "text": [
            "Downloading data from https://storage.googleapis.com/tensorflow/tf-keras-datasets/mnist.npz\n",
            "11490434/11490434 [==============================] - 0s 0us/step\n"
          ]
        }
      ]
    },
    {
      "cell_type": "code",
      "source": [
        "train_images.shape"
      ],
      "metadata": {
        "colab": {
          "base_uri": "https://localhost:8080/"
        },
        "id": "NtIRcl8AnHnr",
        "outputId": "f10b93e1-fb52-40b7-90e9-2cd4f8edc5ee"
      },
      "execution_count": 5,
      "outputs": [
        {
          "output_type": "execute_result",
          "data": {
            "text/plain": [
              "(60000, 28, 28)"
            ]
          },
          "metadata": {},
          "execution_count": 5
        }
      ]
    },
    {
      "cell_type": "code",
      "source": [
        "def preprocess_images(images):\n",
        "    # the '1' in (images.shape[0],28,28,1) represents channel dimension\n",
        "    images = images.reshape((images.shape[0],28,28,1))/255\n",
        "    #pixel values > 0.5 in converted to 1, otherwise it's 0\n",
        "    return np.where(images > .5, 1.0, 0.0). astype('float32') "
      ],
      "metadata": {
        "id": "hOW7JdmxmVFz"
      },
      "execution_count": 6,
      "outputs": []
    },
    {
      "cell_type": "code",
      "source": [
        "train_images = preprocess_images(train_images)\n",
        "test_images = preprocess_images(test_images)"
      ],
      "metadata": {
        "id": "scx4WsDjruiy"
      },
      "execution_count": 7,
      "outputs": []
    },
    {
      "cell_type": "code",
      "source": [
        "train_size = 60000\n",
        "batch_size = 32\n",
        "test_size = 10000"
      ],
      "metadata": {
        "id": "11u8Pr_4r1A3"
      },
      "execution_count": 8,
      "outputs": []
    },
    {
      "cell_type": "code",
      "source": [
        "# ???\n",
        "train_dataset = (tf.data.Dataset.from_tensor_slices(train_images)\n",
        "                 .shuffle(train_size).batch(batch_size))\n",
        "test_dataset = (tf.data.Dataset.from_tensor_slices(test_images)\n",
        "                .shuffle(test_size).batch(batch_size))"
      ],
      "metadata": {
        "id": "V2AXAmqhAWBi"
      },
      "execution_count": 9,
      "outputs": []
    },
    {
      "cell_type": "markdown",
      "source": [
        "Encoder : "
      ],
      "metadata": {
        "id": "F39gDZ2M0ytA"
      }
    },
    {
      "cell_type": "markdown",
      "source": [
        "![image.png](data:image/png;base64,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)\n",
        "\n"
      ],
      "metadata": {
        "id": "gcK6gJuU0O9P"
      }
    },
    {
      "cell_type": "markdown",
      "source": [
        "Decoder:"
      ],
      "metadata": {
        "id": "7gz4yJIK01Ou"
      }
    },
    {
      "cell_type": "markdown",
      "source": [
        "![image.png](data:image/png;base64,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)"
      ],
      "metadata": {
        "id": "Qr0OVSm00wAl"
      }
    },
    {
      "cell_type": "markdown",
      "source": [
        "[Ref: https://www.mathworks.com/help/deeplearning/ug/train-a-variational-autoencoder-vae-to-generate-images.html ]"
      ],
      "metadata": {
        "id": "H9FQuYbH0Ya4"
      }
    },
    {
      "cell_type": "code",
      "source": [
        "class CVAE(tf.keras.Model):\n",
        "    def __init__(self, latent_dim):\n",
        "        super(CVAE, self).__init__()\n",
        "        self.latent_dim = latent_dim\n",
        "        self.encoder = tf.keras.Sequential([\n",
        "            tf.keras.layers.InputLayer(input_shape=(28,28,1)),\n",
        "            tf.keras.layers.Conv2D(\n",
        "                filters = 32, kernel_size=3, strides=(2,2), activation ='relu'\n",
        "            ),\n",
        "            tf.keras.layers.Conv2D(\n",
        "                filters = 64, kernel_size = 3, strides=(2,2), activation='relu'\n",
        "            ),\n",
        "            tf.keras.layers.Flatten(),\n",
        "            tf.keras.layers.Dense(latent_dim + latent_dim)\n",
        "        ])\n",
        "\n",
        "        self.decoder = tf.keras.Sequential([\n",
        "            tf.keras.layers.InputLayer(input_shape = (latent_dim,)),\n",
        "            tf.keras.layers.Dense(units=7*7*32, activation=tf.nn.relu),\n",
        "            tf.keras.layers.Reshape(target_shape=(7,7,32)),\n",
        "            tf.keras.layers.Conv2DTranspose(\n",
        "                filters=64,kernel_size=3, strides=2, padding='same',activation='relu'\n",
        "            ),\n",
        "            tf.keras.layers.Conv2DTranspose(\n",
        "                filters=32,kernel_size=3, strides=2, padding='same',activation='relu'\n",
        "            ),\n",
        "            tf.keras.layers.Conv2DTranspose(\n",
        "                filters=1,kernel_size=3, strides=1, padding='same'\n",
        "            ),    \n",
        "        ])\n",
        "\n",
        "    @tf.function\n",
        "    def sample(self, eps=None):\n",
        "      #eps: epsilon but this time it's latent vector z\n",
        "      if eps is None:\n",
        "          eps = tf.random.normal(shape=(100,self.latent_dim)) # random values fro normal distribution\n",
        "      return self.decode(eps, apply_sigmoid=True)\n",
        "\n",
        "    def encode(self, x):\n",
        "        # How doeas cnn know to create a vector contains mean and logvar ???\n",
        "        mean, logvar = tf.split(self.encoder(x),num_or_size_splits=2, axis=1)\n",
        "        return mean, logvar\n",
        "\n",
        "    def reparameterize(self, mean, logvar):\n",
        "        eps = tf.random.normal(shape=mean.shape)\n",
        "        return eps*tf.exp(logvar*.5) + mean # should it be sth like 10 ** (logvar * 0.5) instead???\n",
        "\n",
        "    def decode(self, z, apply_sigmoid=False):\n",
        "        logits = self.decoder(z)\n",
        "        if apply_sigmoid:\n",
        "            probs = tf.sigmoid(logits)\n",
        "            return probs\n",
        "        return logits\n",
        "\n",
        "        "
      ],
      "metadata": {
        "id": "-kPf0MQvaViN"
      },
      "execution_count": 10,
      "outputs": []
    },
    {
      "cell_type": "markdown",
      "source": [
        "Loss and optimizer"
      ],
      "metadata": {
        "id": "weMe1Lj642TC"
      }
    },
    {
      "cell_type": "markdown",
      "source": [
        "From this, the code still confuses me a lot @@"
      ],
      "metadata": {
        "id": "kmE45F-4CsFb"
      }
    },
    {
      "cell_type": "code",
      "source": [
        "optimizer = tf.keras.optimizers.Adam(1e-4)"
      ],
      "metadata": {
        "id": "P5W3PhPCqAON"
      },
      "execution_count": 11,
      "outputs": []
    },
    {
      "cell_type": "code",
      "source": [
        "\n",
        "def log_normal_pdf(sample, mean, logvar, raxis=1):\n",
        "  log2pi = tf.math.log(2. * np.pi)\n",
        "  return tf.reduce_sum(\n",
        "      -.5 * ((sample - mean) ** 2. * tf.exp(-logvar) + logvar + log2pi),\n",
        "      axis=raxis)"
      ],
      "metadata": {
        "id": "v1SFBQYJ_APX"
      },
      "execution_count": 12,
      "outputs": []
    },
    {
      "cell_type": "code",
      "source": [
        "def compute_loss(model, x):\n",
        "  mean, logvar = model.encode(x)\n",
        "  z = model.reparameterize(mean, logvar)\n",
        "  x_logit = model.decode(z)\n",
        "  cross_ent = tf.nn.sigmoid_cross_entropy_with_logits(logits=x_logit, labels=x)\n",
        "  logpx_z = -tf.reduce_sum(cross_ent, axis=[1, 2, 3])\n",
        "  logpz = log_normal_pdf(z, 0., 0.)\n",
        "  logqz_x = log_normal_pdf(z, mean, logvar)\n",
        "  return -tf.reduce_mean(logpx_z + logpz - logqz_x)"
      ],
      "metadata": {
        "id": "kk9fSKRQ_Gv8"
      },
      "execution_count": 13,
      "outputs": []
    },
    {
      "cell_type": "code",
      "source": [
        "def compute_loss(model, x):\n",
        "  mean, logvar = model.encode(x)\n",
        "  z = model.reparameterize(mean, logvar)\n",
        "  x_logit = model.decode(z)\n",
        "  cross_ent = tf.nn.sigmoid_cross_entropy_with_logits(logits=x_logit, labels=x)\n",
        "  logpx_z = -tf.reduce_sum(cross_ent, axis=[1, 2, 3])\n",
        "  logpz = log_normal_pdf(z, 0., 0.)\n",
        "  logqz_x = log_normal_pdf(z, mean, logvar)\n",
        "  return -tf.reduce_mean(logpx_z + logpz - logqz_x)"
      ],
      "metadata": {
        "id": "1h9jSvA4_gdO"
      },
      "execution_count": 14,
      "outputs": []
    },
    {
      "cell_type": "code",
      "source": [
        "@tf.function\n",
        "def train_step(model, x, optimizer):\n",
        "  \"\"\"Executes one training step and returns the loss.\n",
        "\n",
        "  This function computes the loss and gradients, and uses the latter to\n",
        "  update the model's parameters.\n",
        "  \"\"\"\n",
        "  with tf.GradientTape() as tape:\n",
        "    loss = compute_loss(model, x)\n",
        "  gradients = tape.gradient(loss, model.trainable_variables)\n",
        "  optimizer.apply_gradients(zip(gradients, model.trainable_variables))"
      ],
      "metadata": {
        "id": "-irusFDy_hcq"
      },
      "execution_count": 15,
      "outputs": []
    },
    {
      "cell_type": "code",
      "source": [
        "epochs = 10\n",
        "# set the dimensionality of the latent space to a plane for visualization later\n",
        "latent_dim = 2\n",
        "num_examples_to_generate = 16\n",
        "\n",
        "# keeping the random vector constant for generation (prediction) so\n",
        "# it will be easier to see the improvement.\n",
        "random_vector_for_generation = tf.random.normal(\n",
        "    shape=[num_examples_to_generate, latent_dim])\n",
        "model = CVAE(latent_dim)"
      ],
      "metadata": {
        "id": "zxwRlSpIAAqQ"
      },
      "execution_count": 16,
      "outputs": []
    },
    {
      "cell_type": "code",
      "source": [
        "def generate_and_save_images(model, epoch, test_sample):\n",
        "  mean, logvar = model.encode(test_sample)\n",
        "  z = model.reparameterize(mean, logvar)\n",
        "  predictions = model.sample(z)\n",
        "  fig = plt.figure(figsize=(4, 4))\n",
        "\n",
        "  for i in range(predictions.shape[0]):\n",
        "    plt.subplot(4, 4, i + 1)\n",
        "    plt.imshow(predictions[i, :, :, 0], cmap='gray')\n",
        "    plt.axis('off')\n",
        "\n",
        "  # tight_layout minimizes the overlap between 2 sub-plots\n",
        "  plt.savefig('image_at_epoch_{:04d}.png'.format(epoch))\n",
        "  plt.show()"
      ],
      "metadata": {
        "id": "OsaF1fYpAClg"
      },
      "execution_count": 17,
      "outputs": []
    },
    {
      "cell_type": "code",
      "source": [
        "# Pick a sample of the test set for generating output images\n",
        "assert batch_size >= num_examples_to_generate\n",
        "for test_batch in test_dataset.take(1):\n",
        "  test_sample = test_batch[0:num_examples_to_generate, :, :, :]"
      ],
      "metadata": {
        "id": "qwYk8vpEAELh"
      },
      "execution_count": 18,
      "outputs": []
    },
    {
      "cell_type": "code",
      "source": [
        "generate_and_save_images(model, 0, test_sample)\n",
        "\n",
        "for epoch in range(1, epochs + 1):\n",
        "  start_time = time.time()\n",
        "  for train_x in train_dataset:\n",
        "    train_step(model, train_x, optimizer)\n",
        "  end_time = time.time()\n",
        "\n",
        "  loss = tf.keras.metrics.Mean()\n",
        "  for test_x in test_dataset:\n",
        "    loss(compute_loss(model, test_x))\n",
        "  elbo = -loss.result()\n",
        "  display.clear_output(wait=False)\n",
        "  print('Epoch: {}, Test set ELBO: {}, time elapse for current epoch: {}'\n",
        "        .format(epoch, elbo, end_time - start_time))\n",
        "  generate_and_save_images(model, epoch, test_sample)"
      ],
      "metadata": {
        "colab": {
          "base_uri": "https://localhost:8080/",
          "height": 362
        },
        "id": "0ZpQPtV8AGZg",
        "outputId": "b03ace0f-5552-464b-a007-6a5f3719b083"
      },
      "execution_count": 19,
      "outputs": [
        {
          "output_type": "stream",
          "name": "stdout",
          "text": [
            "Epoch: 10, Test set ELBO: -156.28268432617188, time elapse for current epoch: 6.070092678070068\n"
          ]
        },
        {
          "output_type": "display_data",
          "data": {
            "text/plain": [
              "<Figure size 400x400 with 16 Axes>"
            ],
            "image/png": "[encoded data removed]"
          },
          "metadata": {}
        }
      ]
    }
  ]
}